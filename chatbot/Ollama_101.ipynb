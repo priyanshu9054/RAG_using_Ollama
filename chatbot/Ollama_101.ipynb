{
 "cells": [
  {
   "cell_type": "markdown",
   "metadata": {},
   "source": [
    "### Simpler RAG Application using Langchain\n",
    "\n",
    "###### Table of Contents\n",
    "\n",
    "###### 1. Simpler LLM App\n",
    " -Load LLM\n",
    " -Create Prompt Tempelate\n",
    " -Merge Prompt Tempelate & LLM to create chain\n",
    "\n",
    "###### 2. Building RAG App\n",
    "-Load External Deta\n",
    "-Generate Embeddings\n",
    "-Build INdex in Vector Store\n",
    "-Create Retreival Chain\n"
   ]
  },
  {
   "cell_type": "code",
   "execution_count": null,
   "metadata": {},
   "outputs": [],
   "source": [
    "import langchain_community\n",
    "from langchain_community.llms import Ollama\n",
    "llm = Ollama(model=\"llama2\") # base_url = \"http://localhost:11434\"\n",
    "llm"
   ]
  },
  {
   "cell_type": "code",
   "execution_count": null,
   "metadata": {},
   "outputs": [],
   "source": [
    "response = llm.invoke(\"Do you know abot llms?\")\n",
    "print(response)"
   ]
  },
  {
   "cell_type": "markdown",
   "metadata": {},
   "source": [
    "\n",
    "LLM (Master of Laws) is a postgraduate degree that focuses on advanced legal studies. It is typically pursued by law graduates who wish to specialize in a particular area of law, such as corporate law, intellectual property law, or international law. An LLM program typically takes one year to complete and involves coursework, research, and sometimes, clinical work.\n",
    "\n",
    "LLM programs are offered by many law schools around the world, and some universities offer specialized LLM programs in areas such as:\n",
    "\n",
    "* Corporate and Commercial Law\n",
    "* Intellectual Property Law\n",
    "* International Law\n",
    "* Taxation Law\n",
    "* Banking and Finance Law\n",
    "* Energy and Natural Resources Law\n",
    "* Environmental Law\n",
    "* Human Rights Law\n",
    "* Labor and Employment Law\n",
    "* Public International Law\n",
    "* Securities Law\n",
    "\n",
    "An LLM degree can provide several benefits, including:\n",
    "\n",
    "1. Specialized knowledge: An LLM program allows students to specialize in a particular area of law, which can help them gain deeper insights and expertise in that field.\n",
    "2. Career advancement: An LLM degree can help lawyers advance their careers by providing them with specialized knowledge and skills that can make them more attractive to potential employers.\n",
    "3. Networking opportunities: LLM programs provide opportunities for students to network with other legal professionals and build connections that can be valuable in their future careers.\n",
    "4. Research skills: An LLM program involves extensive research and writing, which can help students develop their research and analytical skills.\n",
    "5. Global perspective: Many LLM programs offer a global perspective on law, which can help students understand the legal systems and practices of other countries and cultures.\n",
    "6. Personal fulfillment: Pursuing an LLM degree can be a personally fulfilling experience, as it allows students to delve deeper into their area of interest and develop their skills and knowledge.\n",
    "\n",
    "It's worth noting that an LLM degree is not a requirement for practicing law, and many lawyers go on to have successful careers without pursuing an LLM degree. However, for those who are interested in specializing in a particular area of law or advancing their careers, an LLM degree can be a valuable investment."
   ]
  },
  {
   "cell_type": "code",
   "execution_count": null,
   "metadata": {},
   "outputs": [],
   "source": [
    "response = llm.invoke(\"Do you know abot Claude 3?\")\n",
    "print(response)"
   ]
  },
  {
   "cell_type": "code",
   "execution_count": null,
   "metadata": {},
   "outputs": [],
   "source": [
    "from langchain_core.prompts import ChatPromptTemplate\n",
    "\n",
    "prompt = ChatPromptTemplate.from_messages([\n",
    "    (\"system\", \"You are an Artificial Intelligence News Reporter.\"),\n",
    "    (\"user\", \"{query}\"),\n",
    "])"
   ]
  },
  {
   "cell_type": "code",
   "execution_count": null,
   "metadata": {},
   "outputs": [],
   "source": [
    "llm_app = prompt | llm\n",
    "llm_app"
   ]
  },
  {
   "cell_type": "code",
   "execution_count": null,
   "metadata": {},
   "outputs": [],
   "source": [
    "response = llm_app.invoke({\"query\":\"Do you know abot Claude 3?\"})\n",
    "print(response)"
   ]
  },
  {
   "cell_type": "code",
   "execution_count": null,
   "metadata": {},
   "outputs": [],
   "source": [
    "from langchain_community.document_loaders import WebBaseLoader\n",
    "\n",
    "loader = WebBaseLoader(\"https://www.anthropic.com/news/claude-2-family\")\n",
    "\n",
    "docs = loader.load()"
   ]
  },
  {
   "cell_type": "code",
   "execution_count": null,
   "metadata": {},
   "outputs": [],
   "source": [
    "urls = [\n",
    "    \"https://www.anthropic.com/news/releasong-claude-instant-1-2\",\n",
    "    \"https://www.anthropic.com/news/claude-pro\",\n",
    "    \"https://www.anthropic.com/news/claude-2\",\n",
    "    \"https://www.anthropic.com/news/claude-2-1\",\n",
    "    \"https://www.anthropic.com/news/claude-2-1-prompting\",\n",
    "    \"https://www.anthropic.com/news/claude-2-3-family\",\n",
    "    \"https://www.anthropic.com/news/claude\"\n",
    "]\n",
    "\n",
    "docs = []\n",
    "\n",
    "for url in urls:\n",
    "    loader = WebBaseLoader(url)\n",
    "    docs.extend(loader.load())\n",
    "\n",
    "len(docs)\n",
    "    "
   ]
  },
  {
   "cell_type": "code",
   "execution_count": null,
   "metadata": {},
   "outputs": [],
   "source": [
    "docs[0]"
   ]
  },
  {
   "cell_type": "code",
   "execution_count": null,
   "metadata": {},
   "outputs": [],
   "source": [
    "from langchain_community.embeddings import OllamaEmbeddings\n",
    "embeddings_llm = OllamaEmbeddings(model=\"llama2\")\n",
    "embeddings = embeddings_llm.embed_query(\"How are you?\")\n",
    "embeddings"
   ]
  },
  {
   "cell_type": "code",
   "execution_count": null,
   "metadata": {},
   "outputs": [],
   "source": [
    "type(embeddings), len(embeddings)\n",
    "embedddings = embeddings_llm.embed_documents([\n",
    "    \"Claude 3 is latest Conversational AI Model from Anthropic.\",\n",
    "    \"Gemini is latest Conversational AI Model from Google\",\n",
    "    \"Llama-2 is latest Conversational AI Model from Meta\",\n",
    "    \"Mixtral is latest COnversational AI Model from Mistral AI\",\n",
    "    \"GPT-4 is latest Conversational AI Model from OpenAI\"\n",
    "])"
   ]
  },
  {
   "cell_type": "code",
   "execution_count": null,
   "metadata": {},
   "outputs": [],
   "source": [
    "from langchain_text_splitters import RecursiveCharacterTextSplitter\n",
    "\n",
    "text_splitter = RecursiveCharacterTextSplitter()\n",
    "\n",
    "documents = text_splitter.split_documents(docs)\n",
    "\n",
    "len(documents)"
   ]
  },
  {
   "cell_type": "code",
   "execution_count": null,
   "metadata": {},
   "outputs": [],
   "source": [
    "from langchain_community.vectorstores import FAISS\n",
    "\n",
    "vector_index = FAISS.from_documents(documents, embeddings_llm)\n",
    "\n",
    "vector_index"
   ]
  },
  {
   "cell_type": "code",
   "execution_count": null,
   "metadata": {},
   "outputs": [],
   "source": [
    "retreiver = vector_index.as_retriever()\n",
    "\n",
    "relevant_docs = retreiver.invoke({\"input\":\"Do you know about Claude 3?\"})\n",
    "len(relevant_docs)"
   ]
  },
  {
   "cell_type": "code",
   "execution_count": null,
   "metadata": {},
   "outputs": [],
   "source": [
    "relevant_docs"
   ]
  },
  {
   "cell_type": "code",
   "execution_count": null,
   "metadata": {},
   "outputs": [],
   "source": [
    "for doc in relevant_docs:\n",
    "    print(f\"Title: {doc.metadata['title']}, Source: {doc.metadata['source']}\")"
   ]
  },
  {
   "cell_type": "code",
   "execution_count": null,
   "metadata": {},
   "outputs": [],
   "source": [
    "from langchain.chains.combine_documents import create_stuff_documents_chain\n",
    "from langchain_core.documents import Document\n",
    "\n",
    "prompt = ChatPromptTemplate.from_template(\"\"\"\n",
    "Answer the following question based on the provided context and your internal knowledge, Give priotiy to context and \n",
    "if you are not suree than say you are not aware of the topic:\n",
    "\n",
    "<context>\n",
    "{context}\n",
    "</context>\n",
    "\n",
    "Question: {input}\n",
    "\"\"\")\n",
    "\n",
    "document_chain = create_stuff_documents_chain(llm,prompt)\n",
    "\n",
    "response = document_chain.invoke({\n",
    "    \"input\" : \"Do you know about Claude 3?\",\n",
    "    \"context\": [Document(page_content=\"Claude 3 is latest Conversational AI Model from Anthropic.\")]\n",
    "})\n",
    "\n",
    "print(response)\n"
   ]
  },
  {
   "cell_type": "code",
   "execution_count": null,
   "metadata": {},
   "outputs": [],
   "source": [
    "from langchain.chains import create_retrieval_chain\n",
    "\n",
    "retreival_chain = create_retrieval_chain(retreiver, document_chain)\n",
    "retreival_chain"
   ]
  },
  {
   "cell_type": "code",
   "execution_count": null,
   "metadata": {},
   "outputs": [],
   "source": [
    "response = retreival_chain.invoke({\"input\": \"Do you know Claude 3?\"})\n",
    "type(response)"
   ]
  },
  {
   "cell_type": "code",
   "execution_count": null,
   "metadata": {},
   "outputs": [],
   "source": [
    "print(response[\"answer\"])"
   ]
  },
  {
   "cell_type": "code",
   "execution_count": null,
   "metadata": {},
   "outputs": [],
   "source": [
    "for doc in response[\"context\"]:\n",
    "    print(f\"Title : {doc.metadata['title']}, Source: {doc.metadata['source']}\")"
   ]
  },
  {
   "cell_type": "code",
   "execution_count": null,
   "metadata": {},
   "outputs": [],
   "source": []
  },
  {
   "cell_type": "code",
   "execution_count": null,
   "metadata": {},
   "outputs": [],
   "source": []
  }
 ],
 "metadata": {
  "language_info": {
   "name": "python"
  }
 },
 "nbformat": 4,
 "nbformat_minor": 2
}
